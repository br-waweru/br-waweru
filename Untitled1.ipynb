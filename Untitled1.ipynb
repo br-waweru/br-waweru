{
  "nbformat": 4,
  "nbformat_minor": 0,
  "metadata": {
    "colab": {
      "name": "Untitled1.ipynb",
      "provenance": [],
      "authorship_tag": "ABX9TyMZMeQxYgv08uzRfF/X4PDS",
      "include_colab_link": true
    },
    "kernelspec": {
      "name": "python3",
      "display_name": "Python 3"
    },
    "language_info": {
      "name": "python"
    }
  },
  "cells": [
    {
      "cell_type": "markdown",
      "metadata": {
        "id": "view-in-github",
        "colab_type": "text"
      },
      "source": [
        "<a href=\"https://colab.research.google.com/github/br-waweru/br-waweru/blob/main/Untitled1.ipynb\" target=\"_parent\"><img src=\"https://colab.research.google.com/assets/colab-badge.svg\" alt=\"Open In Colab\"/></a>"
      ]
    },
    {
      "cell_type": "code",
      "source": [
        "from tweepy.streaming import StreamListener #listens to live tweets\n",
        "from tweepy import OAuthHandler\n",
        "from tweepy import Stream\n",
        "import tweepy\n"
      ],
      "metadata": {
        "id": "pvAt84oonfbH"
      },
      "execution_count": 15,
      "outputs": []
    },
    {
      "cell_type": "code",
      "execution_count": 16,
      "metadata": {
        "id": "ZTWD7QCLfRQS"
      },
      "outputs": [],
      "source": [
        "#Twitter API credentials\n",
        "consumerKey = \"ya6mO0AfdvVhSvYvwP59OEKpF\"\n",
        "consumerSecret =\"Yukels4pUVGum1u01iih2HIdBCqaDnb331CzkZDTXK2aL6VWuf\"\n",
        "accessToken = \"1531616015636889603-nF3e1mjYDW138IVDOSyzJpjmDMgjCo\"\n",
        "accessTokenSecret =\"XNiNW1kYMEfriDCGUsbd7Y5DCxdk0dBu0wkm5EnOipa7L\""
      ]
    },
    {
      "cell_type": "code",
      "source": [
        "class TwitterStreamer():\n",
        " def stream_tweets(self, fetched_tweets_filename, hash_tag_list):\n",
        "  listener = StdOutListener()\n",
        "#Create authentication object\n",
        "  authenticate = OAuthHandler(consumerKey, consumerSecret)\n",
        "#Set accessToken, accessTokenSecret\n",
        "  authenticate.set_access_token(accessToken, accessTokenSecret)\n",
        "\n",
        "  stream = Stream(authenticate,listener)\n",
        "  stream.filter(track=[hash_tag_list])\n",
        "  stream\n",
        "\n",
        "\n"
      ],
      "metadata": {
        "id": "2p8GEmyvogIp"
      },
      "execution_count": 24,
      "outputs": []
    },
    {
      "cell_type": "code",
      "source": [
        "class StdOutListener(StreamListener):\n",
        "   #inherits fron StreamListener class\n",
        " #  def init (self, fetched_tweets_filename):\n",
        "  #  self.fetched_tweets_filename = fetched_tweets_filename\n",
        "   def on_data(self, data): #overriden and takes in live tweets\n",
        "     print(data)\n",
        "     return True\n",
        "   def on_errorr(self, status):\n",
        "     print(status)\n"
      ],
      "metadata": {
        "id": "s_uERdKzvF3Z"
      },
      "execution_count": 26,
      "outputs": []
    },
    {
      "cell_type": "code",
      "source": [
        "fetched_tweets_filename = \"tweets.json\"\n",
        "hash_tag_list = ['azimio''ruto''raila']\n"
      ],
      "metadata": {
        "id": "cCgrViwJ7N0x"
      },
      "execution_count": 27,
      "outputs": []
    },
    {
      "cell_type": "markdown",
      "source": [
        ""
      ],
      "metadata": {
        "id": "HU6uElti7M-i"
      }
    }
  ]
}